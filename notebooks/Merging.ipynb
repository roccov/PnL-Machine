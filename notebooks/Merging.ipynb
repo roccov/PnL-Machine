{
 "cells": [
  {
   "cell_type": "code",
   "execution_count": 3,
   "id": "405355f7",
   "metadata": {},
   "outputs": [],
   "source": [
    "import pandas as pd"
   ]
  },
  {
   "cell_type": "code",
   "execution_count": 15,
   "id": "10057863",
   "metadata": {},
   "outputs": [],
   "source": [
    "#Downloads our datasets:\n",
    "\n",
    "#Merging keys:\n",
    "merging_keys = pd.read_csv(r\"C:\\Etudes\\EPFL\\1ère\\MA2\\ML\\PROJECT\\data_processed\\merging_keys_ready.csv\")\n",
    "\n",
    "#compustat:\n",
    "quarterly_compustat = pd.read_csv(r\"C:\\Etudes\\EPFL\\1ère\\MA2\\ML\\PROJECT\\data_raw\\Predictors\\CompFirmCharac.csv\\CompFirmCharac.csv\", low_memory =False)\n",
    "\n",
    "#crsp:\n",
    "monthly_crsp = pd.read_csv(r\"C:\\Etudes\\EPFL\\1ère\\MA2\\ML\\PROJECT\\data_raw\\monthly_crsp.csv\")\n",
    "\n"
   ]
  },
  {
   "cell_type": "code",
   "execution_count": null,
   "id": "1a17ca41",
   "metadata": {},
   "outputs": [
    {
     "name": "stdout",
     "output_type": "stream",
     "text": [
      "['gvkey', 'datadate', 'fyearq', 'fqtr', 'fyr', 'indfmt', 'consol', 'popsrc', 'datafmt', 'tic', 'cusip', 'conm', 'curcdq', 'datacqtr', 'datafqtr', 'acchgy', 'afudccy', 'afudciy', 'amcy', 'aolochy', 'apalchy', 'aqay', 'aqcy', 'aqdy', 'aqepsy', 'aqpy', 'arcedy', 'arceepsy', 'arcey', 'capxy', 'cdvcy', 'chechy', 'cibegniy', 'cicurry', 'cidergly', 'cimiiy', 'ciothery', 'cipeny', 'cisecgly', 'citotaly', 'ciy', 'cogsy', 'cshfdy', 'cshpry', 'cstkey', 'depcy', 'derhedgly', 'dilady', 'dilavy', 'dlcchy', 'dltisy', 'dltry', 'doy', 'dpcy', 'dprety', 'dpy', 'dteay', 'dtedy', 'dteepsy', 'dtepy', 'dvpy', 'dvy', 'epsfiy', 'epsfxy', 'epspiy', 'epspxy', 'esubcy', 'esuby', 'exrey', 'fcay', 'ffoy', 'fiaoy', 'fincfy', 'finrevy', 'finxinty', 'finxopry', 'fopoxy', 'fopoy', 'fopty', 'fsrcoy', 'fsrcty', 'fuseoy', 'fusety', 'gdwlamy', 'gdwliay', 'gdwlidy', 'gdwliepsy', 'gdwlipy', 'glay', 'glceay', 'glcedy', 'glceepsy', 'glcepy', 'gldy', 'glepsy', 'glivy', 'glpy', 'hedgegly', 'ibadjy', 'ibcomy', 'ibcy', 'ibmiiy', 'iby', 'intpny', 'invchy', 'itccy', 'ivacoy', 'ivchy', 'ivncfy', 'ivstchy', 'miiy', 'ncoy', 'niity', 'nimy', 'niy', 'nopiy', 'nrtxtdy', 'nrtxtepsy', 'nrtxty', 'oancfy', 'oepsxy', 'oiadpy', 'oibdpy', 'opepsy', 'optdry', 'optfvgry', 'optlifey', 'optrfry', 'optvoly', 'pdvcy', 'piy', 'plly', 'pncdy', 'pncepsy', 'pnciapy', 'pnciay', 'pncidpy', 'pncidy', 'pnciepspy', 'pnciepsy', 'pncippy', 'pncipy', 'pncpdy', 'pncpepsy', 'pncpy', 'pncwiapy', 'pncwiay', 'pncwidpy', 'pncwidy', 'pncwiepsy', 'pncwiepy', 'pncwippy', 'pncwipy', 'pncy', 'prcay', 'prcdy', 'prcepsy', 'prcpdy', 'prcpepsy', 'prcpy', 'prstkccy', 'prstkcy', 'prstkpcy', 'rcay', 'rcdy', 'rcepsy', 'rcpy', 'rdipay', 'rdipdy', 'rdipepsy', 'rdipy', 'recchy', 'revty', 'rray', 'rrdy', 'rrepsy', 'rrpy', 'saley', 'scstkcy', 'setay', 'setdy', 'setepsy', 'setpy', 'sivy', 'spcedpy', 'spcedy', 'spceepspy', 'spceepsy', 'spcepy', 'spcey', 'spidy', 'spiepsy', 'spioay', 'spiopy', 'spiy', 'sppey', 'sppivy', 'spstkcy', 'srety', 'sstky', 'stkcoy', 'stkcpay', 'tdcy', 'tfvcey', 'tiey', 'tiiy', 'tsafcy', 'txachy', 'txbcofy', 'txbcoy', 'txdcy', 'txdiy', 'txpdy', 'txty', 'txwy', 'uaolochy', 'udfccy', 'udvpy', 'ufretsdy', 'ugiy', 'uniamiy', 'unopincy', 'unwccy', 'uoisy', 'updvpy', 'uptacy', 'uspiy', 'ustdncy', 'usubdvpy', 'utfdocy', 'utfoscy', 'utmey', 'uwkcapcy', 'wcapchy', 'wcapcy', 'wday', 'wddy', 'wdepsy', 'wdpy', 'xidocy', 'xidoy', 'xinty', 'xiy', 'xopry', 'xoptdqpy', 'xoptdy', 'xoptepsqpy', 'xoptepsy', 'xoptqpy', 'xopty', 'xrdy', 'xsgay', 'exchg', 'cik', 'costat', 'fic']\n"
     ]
    }
   ],
   "source": []
  },
  {
   "cell_type": "code",
   "execution_count": null,
   "id": "ddc77b5b",
   "metadata": {},
   "outputs": [],
   "source": []
  }
 ],
 "metadata": {
  "kernelspec": {
   "display_name": ".env",
   "language": "python",
   "name": "python3"
  },
  "language_info": {
   "codemirror_mode": {
    "name": "ipython",
    "version": 3
   },
   "file_extension": ".py",
   "mimetype": "text/x-python",
   "name": "python",
   "nbconvert_exporter": "python",
   "pygments_lexer": "ipython3",
   "version": "3.13.2"
  }
 },
 "nbformat": 4,
 "nbformat_minor": 5
}
