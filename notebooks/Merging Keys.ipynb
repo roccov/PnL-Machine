{
 "cells": [
  {
   "cell_type": "code",
   "execution_count": 30,
   "id": "ea70a110",
   "metadata": {},
   "outputs": [
    {
     "name": "stdout",
     "output_type": "stream",
     "text": [
      "WRDS recommends setting up a .pgpass file.\n",
      "Created .pgpass file successfully.\n",
      "You can create this file yourself at any time with the create_pgpass_file() function.\n",
      "Loading library list...\n",
      "Done\n"
     ]
    }
   ],
   "source": [
    "import pandas as pd\n",
    "import wrds\n",
    "\n",
    "# 1) Connect to WRDS and pull CCMXPF_LNKUSED\n",
    "db = wrds.Connection()\n",
    "\n"
   ]
  },
  {
   "cell_type": "code",
   "execution_count": 34,
   "id": "ad189db2",
   "metadata": {},
   "outputs": [],
   "source": [
    "lnkused = db.get_table(library='crsp', table='ccmxpf_lnkused')\n"
   ]
  },
  {
   "cell_type": "code",
   "execution_count": 11,
   "id": "090c9586",
   "metadata": {},
   "outputs": [],
   "source": [
    "lnkused.to_csv(\"output.csv\", index=False)"
   ]
  },
  {
   "cell_type": "code",
   "execution_count": 32,
   "id": "ab85148e",
   "metadata": {},
   "outputs": [
    {
     "name": "stdout",
     "output_type": "stream",
     "text": [
      "34575\n",
      "28323\n"
     ]
    }
   ],
   "source": [
    "total_gvkeys = lnkused[\"ugvkey\"].nunique()\n",
    "print(total_gvkeys)\n",
    "\n",
    "#how many distinct GVKEYs ever appear with a “non‐P” flag.\n",
    "nonprim_gvkeys = lnkused.loc[lnkused[\"ulinkprim\"].isin([\"C\",\"j\",\"N\"]), \"ugvkey\"].unique()\n",
    "\n",
    "print(len(nonprim_gvkeys))"
   ]
  },
  {
   "cell_type": "code",
   "execution_count": 33,
   "id": "ece61dde",
   "metadata": {},
   "outputs": [
    {
     "name": "stdout",
     "output_type": "stream",
     "text": [
      "0\n",
      "ulinkprim\n",
      "C    45476\n",
      "P    45332\n",
      "N     4001\n",
      "J     2728\n",
      "Name: count, dtype: Int64\n"
     ]
    },
    {
     "data": {
      "text/plain": [
       "97537"
      ]
     },
     "execution_count": 33,
     "metadata": {},
     "output_type": "execute_result"
    }
   ],
   "source": [
    "#Checking wether there might be some Na in the ulinkprim category\n",
    "print(lnkused[\"ulinkprim\"].isna().sum())\n",
    "\n",
    "#how many row of each ulinkprim there are:\n",
    "print(lnkused[\"ulinkprim\"].value_counts())\n",
    "\n",
    "#P: Primary common share\n",
    "#C: Co-primary share\n",
    "#J: Link exist because of complexe corporate event\n",
    "#N: Often this appears when a firm changes share codes mid‐quarter, \n",
    "#   or for a very brief test listing that never became the main security.\n",
    "\n",
    "\n",
    "#Given the important number of co-primary share it seems irrelevant to drop whatever is not p\n",
    "#The issue here is that for one gvkey we have different permco\n",
    "#So when we will agregate compustat and CRPS data we will have different return for same fundamental accounting variable\n",
    "#By keeping it we will models every investable vehicle (P / C) and study transitional return patterns (J)\n",
    "#Encode the class code with a categorical variable so that the Deep Learning model can learn new patterns\n",
    "#We might face some weighting concerns: Firms with multiple share classes apprea multiple times\n",
    "#Maybe consider by setting a weight = 1/(#of share classes active in that quarter)\n",
    "len(lnkused)"
   ]
  },
  {
   "cell_type": "code",
   "execution_count": 39,
   "id": "6444a8a6",
   "metadata": {},
   "outputs": [
    {
     "data": {
      "text/html": [
       "<div>\n",
       "<style scoped>\n",
       "    .dataframe tbody tr th:only-of-type {\n",
       "        vertical-align: middle;\n",
       "    }\n",
       "\n",
       "    .dataframe tbody tr th {\n",
       "        vertical-align: top;\n",
       "    }\n",
       "\n",
       "    .dataframe thead th {\n",
       "        text-align: right;\n",
       "    }\n",
       "</style>\n",
       "<table border=\"1\" class=\"dataframe\">\n",
       "  <thead>\n",
       "    <tr style=\"text-align: right;\">\n",
       "      <th></th>\n",
       "      <th>ugvkey</th>\n",
       "      <th>upermno</th>\n",
       "      <th>ulinkdt</th>\n",
       "      <th>ulinkenddt</th>\n",
       "      <th>ulinkprim</th>\n",
       "    </tr>\n",
       "  </thead>\n",
       "  <tbody>\n",
       "    <tr>\n",
       "      <th>2</th>\n",
       "      <td>001000</td>\n",
       "      <td>25881.0</td>\n",
       "      <td>1970-11-13</td>\n",
       "      <td>1978-06-30</td>\n",
       "      <td>P</td>\n",
       "    </tr>\n",
       "    <tr>\n",
       "      <th>4</th>\n",
       "      <td>001001</td>\n",
       "      <td>10015.0</td>\n",
       "      <td>1983-09-20</td>\n",
       "      <td>1986-07-31</td>\n",
       "      <td>P</td>\n",
       "    </tr>\n",
       "    <tr>\n",
       "      <th>7</th>\n",
       "      <td>001002</td>\n",
       "      <td>10023.0</td>\n",
       "      <td>1972-12-14</td>\n",
       "      <td>1973-06-05</td>\n",
       "      <td>C</td>\n",
       "    </tr>\n",
       "    <tr>\n",
       "      <th>10</th>\n",
       "      <td>001003</td>\n",
       "      <td>10031.0</td>\n",
       "      <td>1983-12-07</td>\n",
       "      <td>1989-08-16</td>\n",
       "      <td>C</td>\n",
       "    </tr>\n",
       "    <tr>\n",
       "      <th>14</th>\n",
       "      <td>001004</td>\n",
       "      <td>54594.0</td>\n",
       "      <td>1972-04-24</td>\n",
       "      <td>2099-12-31</td>\n",
       "      <td>P</td>\n",
       "    </tr>\n",
       "  </tbody>\n",
       "</table>\n",
       "</div>"
      ],
      "text/plain": [
       "    ugvkey  upermno    ulinkdt ulinkenddt ulinkprim\n",
       "2   001000  25881.0 1970-11-13 1978-06-30         P\n",
       "4   001001  10015.0 1983-09-20 1986-07-31         P\n",
       "7   001002  10023.0 1972-12-14 1973-06-05         C\n",
       "10  001003  10031.0 1983-12-07 1989-08-16         C\n",
       "14  001004  54594.0 1972-04-24 2099-12-31         P"
      ]
     },
     "execution_count": 39,
     "metadata": {},
     "output_type": "execute_result"
    }
   ],
   "source": [
    "# 2. Convert/link‐date columns to timestamps, fill NaT end dates\n",
    "lnkused[\"ulinkdt\"]    = pd.to_datetime(lnkused[\"ulinkdt\"])\n",
    "lnkused[\"ulinkenddt\"] = pd.to_datetime(lnkused[\"ulinkenddt\"])\n",
    "\n",
    "#Modifying the Nan (still active key) so that it's easier to filter when we merge the data:\n",
    "lnkused[\"ulinkenddt\"] = lnkused[\"ulinkenddt\"].fillna(pd.Timestamp(\"2099-12-31\"))\n",
    "\n",
    "# 3. Keep only the “used” links :\n",
    "lnkused = lnkused[lnkused[\"usedflag\"] == 1]\n",
    "#Sometimes a firm’s GVKEY might have a PERMNO assigned for a short “test” period or during a corporate event, \n",
    "# but the CRSP/Compustat merge logic did not end up using that PERMNO as part of the official dataset. \n",
    "# If you let usedflag = 0 rows through, you might attach a PERMNO that CRSP/Compustat themselves \n",
    "# did not consider “valid for analysis.”\n",
    "\n",
    "\n",
    "lnkused = lnkused[lnkused[\"ulinkprim\"].isin([\"P\", \"C\", \"J\"])]     # (only if you want to force primary‐share)\n",
    "#magine a company (GVKEY = 1234) that—at the same point in time—has two different share classes trading.\n",
    "#Eg permno 300001 and permno 30002 that correspon to ordinary and prefered share\n",
    "#if we do it when we merge crsp and compustat we will have severl time the same compustat information \n",
    "#for diferent securities \n",
    "#Having the same fundamental values appear twice (or more) \n",
    "# in the merged dataset can subtly (or severely) bias almost any empirical test or portfolio‐formation strategy\n",
    "#TOO SEE IF I REALLY FILTER FOR THIS: If I keep it's better to create a dummy so that the transformer can learn\n",
    "#something from this and avoid a situation where the same input leads to different results (confusion)\n",
    "\n",
    "# 4. Select just the columns you need\n",
    "merging_ready = lnkused[[\n",
    "    \"ugvkey\",      # Compustat firm ID\n",
    "    \"upermno\",     # CRSP security ID\n",
    "    \"ulinkdt\",     # Link start\n",
    "    \"ulinkenddt\",  # Link end\n",
    "    \"ulinkprim\"    #Kind of securities (P,C,J)\n",
    "]]\n",
    "\n",
    "# At this point, lnk_trimmed has exactly the four columns you need. Drop everything else.\n",
    "merging_ready.head()"
   ]
  },
  {
   "cell_type": "code",
   "execution_count": 40,
   "id": "3f2fa466",
   "metadata": {},
   "outputs": [],
   "source": [
    "merging_ready.to_csv(\"merging_keys_ready.csv\", index = False)"
   ]
  },
  {
   "cell_type": "code",
   "execution_count": null,
   "id": "47518abb",
   "metadata": {},
   "outputs": [],
   "source": [
    "#ugvkey: The compustat firm identifier (GVKEY) for this link row\n",
    "#ulinkprim: \n",
    "#uuid : unic IDcode for this particular link\n",
    "#ulinktype: the link type (LU: used / NU: new but not necessarly used)\n",
    "#apermno: alias PERMNO ( if a security had more than on this field carry the old one)\n",
    "#upermno: the CRSP securitiy identiier\n",
    "#usedflag:  indicating whether this particular PERMNO–GVKEY link was actually used in building the official CRSP‐Compustat combined database.\n",
    "#ulinkdt: The “link start date” (the first calendar day on which this PERMNO ↔ GVKEY association became valid).\n",
    "#ulinkenddt: The “link end date” (the last calendar day on which this PERMNO ↔ GVKEY association was valid)"
   ]
  },
  {
   "cell_type": "code",
   "execution_count": null,
   "id": "6ced4b59",
   "metadata": {},
   "outputs": [],
   "source": []
  }
 ],
 "metadata": {
  "kernelspec": {
   "display_name": ".env",
   "language": "python",
   "name": "python3"
  },
  "language_info": {
   "codemirror_mode": {
    "name": "ipython",
    "version": 3
   },
   "file_extension": ".py",
   "mimetype": "text/x-python",
   "name": "python",
   "nbconvert_exporter": "python",
   "pygments_lexer": "ipython3",
   "version": "3.13.2"
  }
 },
 "nbformat": 4,
 "nbformat_minor": 5
}
